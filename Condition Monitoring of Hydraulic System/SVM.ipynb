{
 "cells": [
  {
   "cell_type": "markdown",
   "id": "ace10b98",
   "metadata": {},
   "source": [
    "# Importing modules"
   ]
  },
  {
   "cell_type": "code",
   "execution_count": null,
   "id": "deef651f",
   "metadata": {},
   "outputs": [],
   "source": [
    "import pandas as pd\n",
    "import matplotlib.pyplot as plt\n",
    "import numpy as np\n",
    "from sklearn.model_selection import train_test_split\n",
    "from sklearn.svm import SVC\n",
    "from sklearn.preprocessing import StandardScaler\n",
    "from sklearn.multioutput import MultiOutputClassifier\n",
    "import seaborn as sns\n",
    "from sklearn.metrics import roc_curve, auc\n",
    "from sklearn.metrics import accuracy_score, classification_report, confusion_matrix"
   ]
  },
  {
   "cell_type": "markdown",
   "id": "39a7ccbb",
   "metadata": {},
   "source": [
    "# Loading datset"
   ]
  },
  {
   "cell_type": "code",
   "execution_count": null,
   "id": "fc006965",
   "metadata": {},
   "outputs": [],
   "source": [
    "df = pd.read_csv(r\"C:\\Users\\ajayk\\Desktop\\Machine Learning\\Machine-Learning\\Condition Monitoring of Hydraulic System\\condition_monitoring_of_Hydraulic_system.csv\")"
   ]
  },
  {
   "cell_type": "code",
   "execution_count": null,
   "id": "089104d0",
   "metadata": {},
   "outputs": [],
   "source": [
    "df"
   ]
  },
  {
   "cell_type": "code",
   "execution_count": null,
   "id": "aad26e71",
   "metadata": {},
   "outputs": [],
   "source": [
    "df.columns"
   ]
  },
  {
   "cell_type": "code",
   "execution_count": null,
   "id": "68136dff",
   "metadata": {},
   "outputs": [],
   "source": [
    "df.describe()"
   ]
  },
  {
   "cell_type": "markdown",
   "id": "467bbaf7",
   "metadata": {},
   "source": [
    "# Assigning values to X and y"
   ]
  },
  {
   "cell_type": "code",
   "execution_count": null,
   "id": "017039bd",
   "metadata": {},
   "outputs": [],
   "source": [
    "X = df[['PS1', 'PS2', 'PS3', 'PS4', 'PS5', 'PS6', 'FS1', 'FS2',\n",
    "       'TS1', 'TS2', 'TS3', 'TS4', 'P1', 'VS1', 'CE1', 'CP1', 'SE1']]\n",
    "y = df[['y_coolerCondition', 'y_valveCondition', 'y_pumpLeak', 'y_hydraulicAcc',\n",
    "       'y_stableFlag']]"
   ]
  },
  {
   "cell_type": "code",
   "execution_count": null,
   "id": "c69d8996",
   "metadata": {},
   "outputs": [],
   "source": [
    "X"
   ]
  },
  {
   "cell_type": "code",
   "execution_count": null,
   "id": "2d66d5c2",
   "metadata": {},
   "outputs": [],
   "source": [
    "y"
   ]
  },
  {
   "cell_type": "markdown",
   "id": "1e2eb4fc",
   "metadata": {},
   "source": [
    "# Split the data into training and testing sets"
   ]
  },
  {
   "cell_type": "code",
   "execution_count": null,
   "id": "784bce48",
   "metadata": {},
   "outputs": [],
   "source": [
    "X_train, X_test, y_train, y_test = train_test_split(X, y, test_size=0.2, random_state = 0)"
   ]
  },
  {
   "cell_type": "code",
   "execution_count": null,
   "id": "92d67084",
   "metadata": {},
   "outputs": [],
   "source": [
    "X_train"
   ]
  },
  {
   "cell_type": "code",
   "execution_count": null,
   "id": "bf9ccf48",
   "metadata": {},
   "outputs": [],
   "source": [
    "y_train"
   ]
  },
  {
   "cell_type": "code",
   "execution_count": null,
   "id": "c79fd07b",
   "metadata": {},
   "outputs": [],
   "source": [
    "X_test"
   ]
  },
  {
   "cell_type": "code",
   "execution_count": null,
   "id": "cf29ac96",
   "metadata": {},
   "outputs": [],
   "source": [
    "y_test"
   ]
  },
  {
   "cell_type": "markdown",
   "id": "71c85263",
   "metadata": {},
   "source": [
    "# Initialize and fit SVM classifier"
   ]
  },
  {
   "cell_type": "code",
   "execution_count": null,
   "id": "f94c2b84",
   "metadata": {},
   "outputs": [],
   "source": [
    "svm_classifier = SVC(kernel=\"rbf\", C=1)\n",
    "\n",
    "# Wrap the classifier in MultiOutputClassifier to handle multiple target variables\n",
    "multi_output_classifier = MultiOutputClassifier(svm_classifier)\n",
    "\n",
    "# Train the classifier\n",
    "multi_output_classifier.fit(X_train, y_train)"
   ]
  },
  {
   "cell_type": "code",
   "execution_count": null,
   "id": "e4b55c08",
   "metadata": {},
   "outputs": [],
   "source": []
  }
 ],
 "metadata": {
  "kernelspec": {
   "display_name": "Python 3 (ipykernel)",
   "language": "python",
   "name": "python3"
  },
  "language_info": {
   "codemirror_mode": {
    "name": "ipython",
    "version": 3
   },
   "file_extension": ".py",
   "mimetype": "text/x-python",
   "name": "python",
   "nbconvert_exporter": "python",
   "pygments_lexer": "ipython3",
   "version": "3.11.4"
  }
 },
 "nbformat": 4,
 "nbformat_minor": 5
}
